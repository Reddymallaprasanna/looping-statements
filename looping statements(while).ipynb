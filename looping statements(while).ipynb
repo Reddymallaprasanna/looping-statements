{
 "cells": [
  {
   "cell_type": "code",
   "execution_count": 3,
   "id": "a53061d7-0756-43f6-b8e1-ec7080eb21dc",
   "metadata": {},
   "outputs": [
    {
     "name": "stdin",
     "output_type": "stream",
     "text": [
      "enter the last  number: 5\n"
     ]
    },
    {
     "name": "stdout",
     "output_type": "stream",
     "text": [
      "0 1 2 3 4 5 "
     ]
    }
   ],
   "source": [
    "#print n numbers\n",
    "n=int(input(\"enter the last  number:\"))\n",
    "loop=0\n",
    "while loop<=n:\n",
    "    print(loop,end=' ')\n",
    "    loop+=1"
   ]
  },
  {
   "cell_type": "code",
   "execution_count": 1,
   "id": "c94aebbf-1cbc-4c24-ab05-ab5040f6c904",
   "metadata": {},
   "outputs": [
    {
     "name": "stdin",
     "output_type": "stream",
     "text": [
      "enter a number 5\n"
     ]
    },
    {
     "name": "stdout",
     "output_type": "stream",
     "text": [
      "5 4 3 2 1 0 "
     ]
    }
   ],
   "source": [
    "#print n numbers in reverse order\n",
    "n=int(input(\"enter a number\"))\n",
    "while n>=0:\n",
    "    print(n,end=' ')\n",
    "    n-=1"
   ]
  },
  {
   "cell_type": "code",
   "execution_count": 13,
   "id": "13c2e522-4f98-45a1-858e-7c394cd67fb6",
   "metadata": {},
   "outputs": [
    {
     "name": "stdin",
     "output_type": "stream",
     "text": [
      "enter a number of n: 10\n"
     ]
    },
    {
     "name": "stdout",
     "output_type": "stream",
     "text": [
      "0 2 4 6 8 10 "
     ]
    }
   ],
   "source": [
    "#printing even numbers till n\n",
    "n=int(input(\"enter a number of n:\"))\n",
    "i=0\n",
    "while i<=n:\n",
    "    if i%2==0:\n",
    "        print(i,end=' ')\n",
    "    i+=1"
   ]
  },
  {
   "cell_type": "code",
   "execution_count": 15,
   "id": "25f4ac71-3668-4c61-9316-84b6da7bc047",
   "metadata": {},
   "outputs": [
    {
     "name": "stdin",
     "output_type": "stream",
     "text": [
      "enter a number of n: 10\n"
     ]
    },
    {
     "name": "stdout",
     "output_type": "stream",
     "text": [
      "1 3 5 7 9 "
     ]
    }
   ],
   "source": [
    "#printing odd numbers till n\n",
    "n=int(input(\"enter a number of n:\"))\n",
    "i=0\n",
    "while i<=n:\n",
    "    if i%2==1:\n",
    "        print(i,end=' ')\n",
    "    i+=1"
   ]
  },
  {
   "cell_type": "code",
   "execution_count": 5,
   "id": "c190d0c7-faad-4712-a71f-3baad75323cc",
   "metadata": {},
   "outputs": [
    {
     "name": "stdout",
     "output_type": "stream",
     "text": [
      "enter -1 to exit!!!!!!!!\n"
     ]
    },
    {
     "name": "stdin",
     "output_type": "stream",
     "text": [
      "enter a number: 3\n",
      "enter a number: -2\n",
      "enter a number: 66\n",
      "enter a number: 5\n",
      "enter a number: 1\n",
      "enter a number: 6\n",
      "enter a number: -9\n",
      "enter a number: -9\n",
      "enter a number: -6\n",
      "enter a number: 0\n",
      "enter a number: 5\n",
      "enter a number: 0\n",
      "enter a number: 7\n",
      "enter a number: 0\n",
      "enter a number: -1\n"
     ]
    },
    {
     "name": "stdout",
     "output_type": "stream",
     "text": [
      "count of positives entered are: 7\n",
      "count of negatives entered are 4\n",
      "count of zeros entered are  3\n"
     ]
    }
   ],
   "source": [
    "''' write a program to read the numbers untill u read -1  encountered .also couint negatives,positives and zeros entered by the user'''\n",
    "# n -negative,p-positive,z-zero\n",
    "n=p=z=0\n",
    "print(\"enter -1 to exit!!!!!!!!\")\n",
    "while(1):\n",
    "    num=int(input(\"enter a number:\"))\n",
    "    if num==-1:\n",
    "        break\n",
    "    if num==0:\n",
    "        z+=1\n",
    "    elif num>0:\n",
    "        p+=1\n",
    "    elif num<0:\n",
    "        n+=1\n",
    "print(\"count of positives entered are:\",p)\n",
    "print(\"count of negatives entered are\",n)\n",
    "print(\"count of zeros entered are \",z)\n"
   ]
  },
  {
   "cell_type": "code",
   "execution_count": 9,
   "id": "1736e798-ad63-4dd7-976f-e9aefaadcb9c",
   "metadata": {},
   "outputs": [
    {
     "name": "stdin",
     "output_type": "stream",
     "text": [
      "enter a binary number 1101\n"
     ]
    },
    {
     "name": "stdout",
     "output_type": "stream",
     "text": [
      "decimal equivalent : 13\n"
     ]
    }
   ],
   "source": [
    "'''write a program to convert binary number to decimal number by usin a while loop only'''\n",
    "# bnum-binary number ,dnum-decimal number\n",
    "bnum=int(input(\"enter a binary number\"))\n",
    "dnum=i=0\n",
    "while bnum!=0:\n",
    "    r=bnum%10\n",
    "    dnum=dnum+r*(2**i)\n",
    "    bnum//=10\n",
    "    i+=1\n",
    "print(\"decimal equivalent :\",dnum)"
   ]
  },
  {
   "cell_type": "code",
   "execution_count": null,
   "id": "bb5654da-c461-4b89-a3f8-83adf6eb13e0",
   "metadata": {},
   "outputs": [],
   "source": []
  }
 ],
 "metadata": {
  "kernelspec": {
   "display_name": "Python 3 (ipykernel)",
   "language": "python",
   "name": "python3"
  },
  "language_info": {
   "codemirror_mode": {
    "name": "ipython",
    "version": 3
   },
   "file_extension": ".py",
   "mimetype": "text/x-python",
   "name": "python",
   "nbconvert_exporter": "python",
   "pygments_lexer": "ipython3",
   "version": "3.12.7"
  }
 },
 "nbformat": 4,
 "nbformat_minor": 5
}
